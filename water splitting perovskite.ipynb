{
 "cells": [
  {
   "cell_type": "code",
   "execution_count": 2,
   "id": "397d9655",
   "metadata": {},
   "outputs": [
    {
     "name": "stdout",
     "output_type": "stream",
     "text": [
      "float64\n"
     ]
    },
    {
     "data": {
      "image/png": "[encoded data removed]",
      "text/plain": [
       "<Figure size 150x300 with 1 Axes>"
      ]
     },
     "metadata": {
      "needs_background": "light"
     },
     "output_type": "display_data"
    },
    {
     "data": {
      "image/png": "[encoded data removed]",
      "text/plain": [
       "<Figure size 450x300 with 1 Axes>"
      ]
     },
     "metadata": {
      "needs_background": "light"
     },
     "output_type": "display_data"
    }
   ],
   "source": [
    "%matplotlib inline\n",
    "import pandas as pd\n",
    "pd.set_option(\"display.max_columns\", None)\n",
    "import numpy as np\n",
    "from pylab import *\n",
    "import matplotlib \n",
    "import matplotlib.pyplot as plt\n",
    "import matplotlib.cm as cm\n",
    "from matplotlib.ticker import MultipleLocator\n",
    "from sklearn import linear_model\n",
    "\n",
    "from sklearn import svm\n",
    "from sklearn.ensemble import RandomForestClassifier\n",
    "from sklearn.naive_bayes import GaussianNB\n",
    "from sklearn.ensemble import GradientBoostingClassifier\n",
    "from sklearn.ensemble import ExtraTreesClassifier\n",
    "from sklearn.naive_bayes import BernoulliNB\n",
    "from sklearn.neighbors import KNeighborsClassifier\n",
    "from sklearn.linear_model import SGDClassifier\n",
    "from sklearn.ensemble import RandomForestRegressor\n",
    "from sklearn import linear_model\n",
    "from sklearn.kernel_ridge import KernelRidge\n",
    "from sklearn.naive_bayes import GaussianNB\n",
    "from collections import OrderedDict\n",
    "from sklearn import mixture\n",
    "from sklearn import cluster, preprocessing, mixture \n",
    "#　データセット読み込み\n",
    "df = pd.read_csv('Perovskite_Water_Splitting_Dup.csv')\n",
    "\n",
    "#　列の取り出しかつ、nanを0に置き換え\n",
    "#df['CalcT'] = df['CalcT'].fillna(value = 0)\n",
    "\n",
    "#　列の取り出しかつ、nanを削除\n",
    "#df['CalcT'] = df['CalcT'].dropna()\n",
    "print(df['CalcT'].dtype)\n",
    "\n",
    "# nanを置き換えた0を除く*重複した行は全部消える。sortは行番号と値を表示してくれる。\n",
    "#df[df['CalcT'] > 0]['CalcT'].drop_duplicates().sort_values(ascending = False)\n",
    "\n",
    "#df[df['CalcT'] > 0]['CalcT'].drop_duplicates().sort_values(ascending = False)\n",
    "\n",
    "#figureとaxesを作ってヒストグラムを作成\n",
    "fig, ax = subplots(1, 1, figsize = (1, 2), dpi = 150, constrained_layout = True)\n",
    "ax.hist(df['CalcT'],bins = 40, edgecolor = 'black')\n",
    "\n",
    "#x軸の目盛りのサイズを指定\n",
    "ax.tick_params(axis = \"x\", labelsize = 5)\n",
    "#目盛りの幅を指定\n",
    "ax.xaxis.set_major_locator(MultipleLocator(200))\n",
    "\n",
    "#df_1 = df_1.astype(str)\n",
    "#fig1 = plt.figure(tight_layout = True)\n",
    "#ax = fig1.subplots()\n",
    "#ax = plt.hist(df_1)\n",
    "#ax.tick_params(axis = \"x\", fontsize = 8)\n",
    "\n",
    "fig, ax = subplots(1, 1, figsize = (3, 2), dpi = 150, constrained_layout = True)\n",
    "ax.hist(df[df['CalcT'] > 0]['CalcT'], edgecolor = 'black')\n",
    "ax.tick_params(axis = \"x\", labelsize = 5)\n",
    "ax.xaxis.set_major_locator(MultipleLocator(100))\n",
    "\n",
    "#his = plt.hist(df_1,bins = 5)\n",
    "#plt.tick_params(width = 2, length = 10)\n",
    "#his.set_xlabel(\"x\", size = 14, weight = \"light\")\n",
    "plt.show()"
   ]
  },
  {
   "cell_type": "code",
   "execution_count": 3,
   "id": "d832106b",
   "metadata": {},
   "outputs": [
    {
     "data": {
      "image/png": "[encoded data removed]",
      "text/plain": [
       "<Figure size 600x300 with 1 Axes>"
      ]
     },
     "metadata": {
      "needs_background": "light"
     },
     "output_type": "display_data"
    }
   ],
   "source": [
    "#df[df['CalcT'] > 0]['CalcT'].drop_duplicates().sort_values(ascending = False)\n",
    "df[df['CalcT'] > 0]['CalcT'].sort_values(ascending = False)\n",
    "fig, ax = subplots(1, 1, figsize = (4, 2), dpi = 150, constrained_layout = True)\n",
    "ax.hist(df[df['CalcT'] > 0]['CalcT'], edgecolor = 'black')\n",
    "ax.tick_params(axis = \"x\", labelsize = 5)"
   ]
  },
  {
   "cell_type": "code",
   "execution_count": 25,
   "id": "1577d4c5",
   "metadata": {
    "scrolled": true
   },
   "outputs": [
    {
     "data": {
      "text/plain": [
       "8         0.0\n",
       "156     333.0\n",
       "493     413.0\n",
       "486     453.0\n",
       "499     473.0\n",
       "356     543.0\n",
       "437     603.0\n",
       "180     623.0\n",
       "240     643.0\n",
       "214     673.0\n",
       "129     723.0\n",
       "6       743.0\n",
       "380     770.0\n",
       "21      773.0\n",
       "131     823.0\n",
       "98      873.0\n",
       "133     923.0\n",
       "99      973.0\n",
       "135    1023.0\n",
       "100    1073.0\n",
       "386    1123.0\n",
       "382    1150.0\n",
       "2      1173.0\n",
       "233    1223.0\n",
       "1      1273.0\n",
       "381    1350.0\n",
       "0      1373.0\n",
       "312    1400.0\n",
       "225    1420.0\n",
       "30     1423.0\n",
       "373    1470.0\n",
       "164    1473.0\n",
       "313    1498.0\n",
       "34     1573.0\n",
       "318    1623.0\n",
       "329    1673.0\n",
       "36     1773.0\n",
       "Name: CalcT, dtype: float64"
      ]
     },
     "execution_count": 25,
     "metadata": {},
     "output_type": "execute_result"
    }
   ],
   "source": [
    "df['CalcT'].drop_duplicates().sort_values()"
   ]
  },
  {
   "cell_type": "code",
   "execution_count": 67,
   "id": "fd191689",
   "metadata": {},
   "outputs": [
    {
     "name": "stdout",
     "output_type": "stream",
     "text": [
      "34\n",
      "['Na', 'Sr', 'K', 'Bi', 'Zn', 'La', 'Ca', 'Ba', 'Sb', 'Li', 'Y', 'Cu', 'In', 'Ag', 'Co', 'Mn', 'Ga', 'Sm', 'Ni', 'Cr'] [134, 106, 51, 50, 44, 41, 29, 23, 13, 11, 11, 7, 6, 4, 3, 2, 2, 1, 1, 1]\n"
     ]
    },
    {
     "data": {
      "text/plain": [
       "<BarContainer object of 20 artists>"
      ]
     },
     "execution_count": 67,
     "metadata": {},
     "output_type": "execute_result"
    },
    {
     "data": {
      "image/png": "[encoded data removed]",
      "text/plain": [
       "<Figure size 750x300 with 1 Axes>"
      ]
     },
     "metadata": {
      "needs_background": "light"
     },
     "output_type": "display_data"
    }
   ],
   "source": [
    "#print(df.iloc[1:25,:])\n",
    "col_lis = df.columns.tolist()\n",
    "print(len(col_lis))\n",
    "#for i in col_lis:\n",
    "#    print(i)\n",
    "#print(df['A'].value_counts())\n",
    "#fig, ax = subplots(1, 1, figsize = (5, 2), dpi = 150, constrained_layout = True)\n",
    "dtype(df['A'].value_counts())\n",
    "lis = list(df['A'].value_counts())\n",
    "df['A'].value_counts()\n",
    "lis1 = []\n",
    "lis2 = []\n",
    "for index, value in df['A'].value_counts().iteritems():\n",
    "    lis1.append(index)\n",
    "    lis2.append(value)\n",
    "print(lis1,lis2)\n",
    "lis3 = list(range(len(lis1)))\n",
    "df1 = pd.DataFrame(lis2,index = [lis1], columns = ['counts'])\n",
    "fig, ax = subplots(1, 1, figsize = (5, 2), dpi = 150, constrained_layout = True)\n",
    "ax.bar(lis3, lis2, tick_label=lis1, align=\"center\")"
   ]
  },
  {
   "cell_type": "code",
   "execution_count": null,
   "id": "23105e8b",
   "metadata": {},
   "outputs": [],
   "source": []
  }
 ],
 "metadata": {
  "kernelspec": {
   "display_name": "Python 3 (ipykernel)",
   "language": "python",
   "name": "python3"
  },
  "language_info": {
   "codemirror_mode": {
    "name": "ipython",
    "version": 3
   },
   "file_extension": ".py",
   "mimetype": "text/x-python",
   "name": "python",
   "nbconvert_exporter": "python",
   "pygments_lexer": "ipython3",
   "version": "3.10.6"
  }
 },
 "nbformat": 4,
 "nbformat_minor": 5
}
